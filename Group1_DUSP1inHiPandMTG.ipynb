{
 "cells": [
  {
   "cell_type": "markdown",
   "metadata": {},
   "source": [
    "# S1 2020 BIPN162 Final Project\n",
    "by Group 1"
   ]
  },
  {
   "cell_type": "markdown",
   "metadata": {},
   "source": [
    "## Group Members: Yuxi Wei, Winnie Gong, Sihan Lu \n",
    "\n",
    "Contributions:\n",
    "\n",
    "- **Yuxi**: Contributed to code and data analysis for 'Comparison of Human Microarray Gene Expressions for the DUSP1 gene between the hippocampal formation (HiF) and middle frontal gyrus (MFG)', dicussion and conclusion.\n",
    "\n",
    "- **Winnie**: Contributed to code and data analysis for 'Comparison of Electrophysiological Properties between the middle temporal gyrus (MTG) and middle frontal gyrus (MFG)', background, discussion and conclusion.\n",
    "\n",
    "- **Sihan**: Contributed to introduction, background, discussion and conclusion."
   ]
  },
  {
   "cell_type": "markdown",
   "metadata": {},
   "source": [
    "## Abstract"
   ]
  },
  {
   "cell_type": "markdown",
   "metadata": {},
   "source": [
    "In this project, we compared gene expression data from the Allen Microarray dataset and electrophysiology data from the Allen Cell Types database between the middle frontal gyrus (MFG)  and the hippocampal formation (HiF). When comparing electrophysiology data, we compared the middle frontal gyrus with the middle temporal gyrus, as the middle temporal gyrus incorporates the hippocampal formation. We found that the electrophysiology between these two regions showed no significant difference, with respect to the resting membrane potential, upstroke-downstroke ratio, rheobase, and F-I slope curve. In addition, we found a significant difference in MKP-1/DUSP-1 gene expression between the two brain regions. Both results are consistent with the establishment of a potential link between the middle frontal gyrus and onset of major depressive disorder.\n"
   ]
  },
  {
   "cell_type": "markdown",
   "metadata": {},
   "source": [
    "## Research Question"
   ]
  },
  {
   "cell_type": "markdown",
   "metadata": {},
   "source": [
    "*Are there observable differences in levels of gene expression or electrophysiological properties across the hippocampus, a brain region known to be associated with major depressive disorder (MDD), and the middle frontal gyrus (MFG)?*"
   ]
  },
  {
   "cell_type": "markdown",
   "metadata": {},
   "source": [
    "# Background and Prior Work"
   ]
  },
  {
   "cell_type": "markdown",
   "metadata": {},
   "source": [
    "Today, major depressive disorder (MDD) is one of the most prevalent and impactful mental health disorders in the United States, with about 17.3 million adults in the United States having experienced at least one major depressive episode. Characterized by loss of interest or pleasure, impaired cognitive function, and sleep disturbance (Li et al., 2020), major depressive disorder carries with it a high personal, social, and economic burden, causing it to rapidly become one of the most heavily studied neurobiological diseases. (Duric et al., 2010)\n",
    "\n",
    "The function of the hippocampal formation (HiF) includes learning and consolidating short-term memory to cortical memory storage for the long-term. (Campbell and Macqueen, 2004) Previous MRI studies on MDD patients have consistently shown a decrease in hippocampal volume when compared to that of healthy control groups. The reduction of hippocampal volume appears to lead to an increased duration of depressive symptoms and altered gene expression in the hippocampal region. (Mahajan et al., 2018; Malykhin et al., 2010) One such altered gene is known as MKP-1/DUSP-1, which is widely expressed in the hippocampus, cortex, ventral tegmental area, striatum, and thalamus of rodent brains. (Du et al, 2019) Experimentally, the overexpression of MKP-1/DUSP-1 has been observed in the hippocampal brain tissue of patients with MDD. Additionally, experiments done on rat and mouse models have shown increased hippocampal MKP-1 expression to trigger depressive behavior. Subsequent treatment of these mouse models with antidepressants normalizes the expression of MKP1/DUSP-1, providing evidence of a possible genetic profile for the onset of MDD. (Duric et al, 2010) \n",
    "\n",
    "Other behavioral studies explore an individual’s increased late positive potential to correctly recognized words, known as the old-new effect. This effect is thought to be as a result of conscious episodic memory retrieval in the hippocampus of patients. Studies of continuous word recognition indicate that the new-old effect is reduced in depressed patients, which is consistent with MRI findings of reduced hippocampal volumes in MDD patients. (Bruder et al., 2011) \n",
    "\n",
    "The middle frontal gyrus (MFG) and the hippocampus have both been correlated with working memory activity. (Harms et al., 2013) With similar functions to the hippocampus, the middle frontal gyrus could potentially be related to major depressive disorder. Previous research done with patients that have major depressive disorder had identified a total of eight brain regions with decreased activation compared to controls, which included the bilateral middle frontal gyri. Overactive areas in patients with major depressive disorder were also identified, which included the medial frontal gyri. (Fitzgerald et al., 2008) More specific studies are needed to explore the relation between the medial frontal gyrus and onset of major depressive disorder.\n",
    "\n",
    "The two datasets that we used in our project include the Allen Microarray Expression dataset and the Allen Cell Type dataset. To analyze MKP-1/DUSP-1 gene expression between the hippocampal formation and middle frontal gyrus, we will use the Allen Microarray Expression dataset. Through differential searches, we set our target structure as the middle frontal gyrus and its contrast structure as the hippocampal formation, which is known to be related to major depressive disorder. To analyze electrophysiological properties, we use the Allen Cell Type dataset to draw comparisons between the middle frontal gyrus and the middle temporal gyrus, a region that includes the hippocampal formation. We will focus on four electrophysiological properties - resting membrane potential, upstroke-downstroke ratio, rheobase, and F-I curve slopes. \n",
    "\n",
    "Today, it is not clear if the middle frontal gyrus is associated with major depressive disorder, as there are limited studies done on this region. Thus, extrapolating from previously established findings, our aims in this project are to compare the MKP-1/DUSP-1 gene expression and electrophysiological differences between the middle frontal gyrus and hippocampus, investigating a possible correlation between the middle frontal gyrus and the major depressive disorder.\n",
    "\n",
    "### References (include links):\n",
    "(1) Bruder, G. E., Kayser, J., & Tenke, C. E. (2011). Event-Related Brain Potentials in Depression: Clinical, Cognitive, and Neurophysiological Implications. Oxford Handbooks Online. doi:10.1093/oxfordhb/9780195374148.013.0257. https://www.oxfordhandbooks.com/view/10.1093/oxfordhb/9780195374148.001.0001/oxfordhb-9780195374148-e-020\n",
    "\n",
    "(2) Campbell, S., & Macqueen, G. (2004). The role of the hippocampus in the pathophysiology of major depression. Journal of psychiatry & neuroscience : JPN, 29(6), 417–426. https://www.ncbi.nlm.nih.gov/pmc/articles/PMC524959/\n",
    "\n",
    "(3) Du, Y., Du, Y., Zhang, Y., Huang, Z., Fu, M., Li, J., … Dong, Z. (2019). MKP-1 reduces Aβ generation and alleviates cognitive impairments in Alzheimer’s disease models. Signal Transduction and Targeted Therapy, 4(1). https://doi.org/10.1038/s41392-019-0091-4\n",
    "\n",
    "(4) Duric, V., Banasr, M., Licznerski, P., Schmidt, H. D., Stockmeier, C. A., Simen, A. A., … Duman, R. S. (2010). A negative regulator of MAP kinase causes depressive behavior. Nature Medicine, 16(11), 1328–1332. https://doi.org/10.1038/nm.2219\n",
    "\n",
    "(5) Fitzgerald, P. B., Laird, A. R., Maller, J., & Daskalakis, Z. J. (2008). A meta-analytic study of changes in brain activation in depression. Human brain mapping, 29(6), 683–695. https://doi.org/10.1002/hbm.20426\n",
    "\n",
    "(6) Harms, M. P., Wang, L., Csernansky, J. G., & Barch, D. M. (2013). Structure-function relationship of working memory activity with hippocampal and prefrontal cortex volumes. Brain structure & function, 218(1), 173–186. https://doi.org/10.1007/s00429-012-0391-8\n",
    "\n",
    "(7) Li, S., Li, Y., Li, X., Liu, J., Huo, Y., Wang, J., . . . Luo, X. (2020, March 25). Regulatory mechanisms of major depressive disorder risk variants. Nature News.Retrieved July 31, 2020, from https://www.nature.com/articles/s41380-020-0715-7\n",
    "\n",
    "(8) Mahajan, G. J., Vallender, E. J., Garrett, M. R., Challagundla, L., Overholser, J. C., Jurjus, G., . . . Stockmeier, C. A. (2018). Altered neuro-inflammatory gene expression in hippocampus in major depressive disorder. Progress in Neuro-Psychopharmacology and Biological Psychiatry, 82, 177-186. doi:10.1016/j.pnpbp.2017.11.017. https://www.ncbi.nlm.nih.gov/pmc/articles/PMC5801125/\n",
    "\n",
    "(9) Malykhin, N. V., Carter, R., Seres, P., Coupland, N. J. (2010). Structural changes in the hippocampus in major depressive disorder: Contributions of disease and treatment. Journal of Psychiatry and Neuroscience, 35(5), 337-343. doi:10.1503/jpn.100002. https://www.ncbi.nlm.nih.gov/pmc/articles/PMC2928287/"
   ]
  },
  {
   "cell_type": "markdown",
   "metadata": {},
   "source": [
    "## Hypothesis\n"
   ]
  },
  {
   "cell_type": "markdown",
   "metadata": {},
   "source": [
    "There are no significant differences in levels of MKP-1/DUSP-1 expression or electrophysiological properties between the hippocampal formation (HiF) or the middle temporal gyrus (MTP) and the middle frontal gyrus (MFG). The middle frontal gyrus could potentially be related to onset of major depressive disorder."
   ]
  },
  {
   "cell_type": "markdown",
   "metadata": {},
   "source": [
    "# Data Analysis"
   ]
  },
  {
   "cell_type": "markdown",
   "metadata": {},
   "source": [
    "## Set up"
   ]
  },
  {
   "cell_type": "code",
   "execution_count": 1,
   "metadata": {},
   "outputs": [],
   "source": [
    "## Import main packages for data analysis\n",
    "import requests\n",
    "import json\n",
    "import pandas as pd\n",
    "import numpy as np\n",
    "import matplotlib.pyplot as plt\n",
    "import seaborn as sns\n",
    "\n",
    "from scipy import stats \n",
    "from functools import reduce\n",
    "from sklearn.decomposition import PCA\n",
    "\n",
    "%matplotlib inline\n",
    "\n",
    "# Import packages from AllenSDK core package\n",
    "from allensdk.core.cell_types_cache import CellTypesCache\n",
    "from allensdk.api.queries.cell_types_api import CellTypesApi"
   ]
  },
  {
   "cell_type": "markdown",
   "metadata": {},
   "source": [
    "## 1. Comparison of Human Microarray Gene Expressions for the DUSP1 gene between the hippocampal formation (HiF) and middle frontal gyrus (MFG)"
   ]
  },
  {
   "cell_type": "markdown",
   "metadata": {},
   "source": [
    "### Data Wrangling"
   ]
  },
  {
   "cell_type": "markdown",
   "metadata": {},
   "source": [
    "Our brain regions of interest are hippocampal formation(HiF) and middle frontal gyrus(MFG). First, we need to find the brain area IDs."
   ]
  },
  {
   "cell_type": "code",
   "execution_count": 2,
   "metadata": {},
   "outputs": [
    {
     "name": "stdout",
     "output_type": "stream",
     "text": [
      "The brain area ID for HiF is: 4249\n",
      "The brain area ID for MFG field is: 4028\n"
     ]
    }
   ],
   "source": [
    "#Build an RMA query to access the data available in the MicroArray database\n",
    "service = 'http://api.brain-map.org/api/v2/data/query.json?criteria=' \n",
    "\n",
    "#Get the id for HiF\n",
    "brain_area = 'hippocampal formation'\n",
    "ontology_id = 'Human Brain Atlas'\n",
    "\n",
    "structure_result = requests.get('%smodel::Structure,\\\n",
    "    rma::criteria,[name$il\\'%s\\'],ontology[name$eq\\'%s\\']' % (service,brain_area,ontology_id)).json()\n",
    "\n",
    "HiF_id = structure_result['msg'][0]['id']\n",
    "print ('The brain area ID for HiF is:', HiF_id)\n",
    "\n",
    "#Get the id for MFG\n",
    "brain_area = 'middle frontal gyrus'\n",
    "ontology_id = 'Human Brain Atlas'\n",
    "\n",
    "structure_result = requests.get('%smodel::Structure,\\\n",
    "    rma::criteria,[name$il\\'%s\\'],ontology[name$eq\\'%s\\']' % (service,brain_area,ontology_id)).json()\n",
    "\n",
    "MFG_id = structure_result['msg'][0]['id']\n",
    "print ('The brain area ID for MFG field is:', MFG_id)"
   ]
  },
  {
   "cell_type": "markdown",
   "metadata": {},
   "source": [
    "After we obtained the brain area IDs, we need to look for the id of the DUSP1 gene probe which is our gene of interest."
   ]
  },
  {
   "cell_type": "code",
   "execution_count": 3,
   "metadata": {},
   "outputs": [
    {
     "name": "stdout",
     "output_type": "stream",
     "text": [
      "The probe ID for DUSP1 is: [1057452, 1057451]\n"
     ]
    }
   ],
   "source": [
    "# DUSP1 gene probe id\n",
    "gene_acronym = 'DUSP1'\n",
    "probe_type = 'DNA'\n",
    "product_abbrev = 'HumanMA'\n",
    "\n",
    "result = requests.get('%smodel::Probe, \\\n",
    "    rma::criteria,[probe_type$eq\\'%s\\'],products[abbreviation$eq\\'%s\\'],gene[acronym$eq\\'%s\\']' \\\n",
    "                      % (service,probe_type,product_abbrev,gene_acronym)).json()\n",
    "\n",
    "DUSP1_id = [] \n",
    "for i in range(len(result['msg'])):\n",
    "    DUSP1_id.append(result['msg'][i]['id'])\n",
    "\n",
    "print('The probe ID for DUSP1 is:', DUSP1_id)"
   ]
  },
  {
   "cell_type": "markdown",
   "metadata": {},
   "source": [
    "There are several different donors in the MicroArray database. We need to filter for only the donors that have data for gene expression data in our brain regions of interest. "
   ]
  },
  {
   "cell_type": "markdown",
   "metadata": {},
   "source": [
    "First, we will take a look at all donors with data for DUSP1 in the HiF and MFG:"
   ]
  },
  {
   "cell_type": "code",
   "execution_count": 4,
   "metadata": {},
   "outputs": [
    {
     "name": "stdout",
     "output_type": "stream",
     "text": [
      "DUSP1 HiF donor IDs: [9861, 9861, 9861, 9861, 9861, 9861, 9861, 9861, 9861, 9861, 9861, 9861, 9861, 9861, 9861, 9861, 9861, 9861, 9861, 9861, 9861, 9861, 9861, 9861, 9861, 9861, 9861, 9861, 9861, 9861, 9861, 9861, 9861, 9861, 9861, 9861, 9861, 9861, 9861, 9861, 9861, 9861, 9861, 9861, 9861, 9861, 9861, 9861, 9861, 9861, 9861, 9861, 9861, 9861, 9861, 9861, 9861, 9861, 9861, 9861, 9861, 10021, 10021, 10021, 10021, 10021, 10021, 10021, 10021, 10021, 10021, 10021, 10021, 10021, 10021, 10021, 10021, 10021, 10021, 10021, 10021, 10021, 10021, 10021, 10021, 10021, 10021, 10021, 10021, 10021, 10021, 10021, 10021, 10021, 10021, 10021, 10021, 10021, 10021, 10021, 10021, 10021, 10021, 10021, 10021, 10021, 10021, 10021, 10021, 10021, 10021, 10021, 10021, 10021, 10021, 12876, 12876, 12876, 12876, 12876, 12876, 12876, 12876, 12876, 12876, 12876, 12876, 12876, 12876, 14380, 14380, 14380, 14380, 14380, 14380, 14380, 14380, 14380, 14380, 14380, 14380, 14380, 14380, 14380, 14380, 14380, 14380, 14380, 14380, 14380, 14380, 15496, 15496, 15496, 15496, 15496, 15496, 15496, 15496, 15496, 15496, 15496, 15496, 15496, 15496, 15496, 15496, 15496, 15697, 15697, 15697, 15697, 15697, 15697, 15697, 15697, 15697, 15697, 15697, 15697, 15697, 15697, 15697, 15697, 15697, 15697, 15697, 15697]\n",
      "DUSP1 MFG donor IDs: [9861, 9861, 9861, 9861, 9861, 9861, 9861, 9861, 9861, 9861, 9861, 9861, 9861, 9861, 9861, 9861, 9861, 9861, 9861, 9861, 9861, 9861, 9861, 9861, 9861, 9861, 9861, 9861, 9861, 9861, 9861, 9861, 9861, 10021, 10021, 10021, 10021, 10021, 10021, 10021, 10021, 10021, 10021, 10021, 10021, 10021, 10021, 10021, 10021, 10021, 10021, 10021, 10021, 10021, 10021, 10021, 10021, 10021, 10021, 12876, 12876, 12876, 12876, 12876, 12876, 12876, 12876, 14380, 14380, 14380, 14380, 14380, 14380, 14380, 14380, 14380, 15496, 15496, 15496, 15496, 15496, 15496, 15496, 15496, 15496, 15496, 15496, 15697, 15697, 15697, 15697, 15697, 15697, 15697, 15697, 15697, 15697]\n"
     ]
    }
   ],
   "source": [
    "#Donor info at HiF\n",
    "#Fetching data for all donors with DUSP1 expression data at hippocampal formation\n",
    "DUSP1_HiF = requests.get(\"%sservice::human_microarray_expression[structures$eq4249][probes$eq1057452]\" % (service)).json()\n",
    "DUSP1_HiF_donor = DUSP1_HiF['msg']['samples']\n",
    "\n",
    "DUSP1_HiF_id=[]\n",
    "for x in DUSP1_HiF_donor:\n",
    "    item_ida = x['donor']['id']\n",
    "    DUSP1_HiF_id.append(item_ida)\n",
    "print ('DUSP1 HiF donor IDs:', DUSP1_HiF_id)\n",
    "\n",
    "#Donor info at MFG\n",
    "#Fetching data for all donors with DUSP1 expression data at middle frontal gyrus\n",
    "DUSP1_MFG = requests.get(\"%sservice::human_microarray_expression[structures$eq4028][probes$eq1057452]\" % (service)).json()\n",
    "DUSP1_MFG_donor = DUSP1_MFG['msg']['samples']\n",
    "\n",
    "DUSP1_MFG_id=[]\n",
    "for x in DUSP1_MFG_donor:\n",
    "    item_ida = x['donor']['id']\n",
    "    DUSP1_MFG_id.append(item_ida)\n",
    "print ('DUSP1 MFG donor IDs:', DUSP1_MFG_id)"
   ]
  },
  {
   "cell_type": "markdown",
   "metadata": {},
   "source": [
    "Next, we should extract gene expression data for DUSP1 from each donor in the HiF and MFG."
   ]
  },
  {
   "cell_type": "code",
   "execution_count": 5,
   "metadata": {},
   "outputs": [
    {
     "data": {
      "text/html": [
       "<div>\n",
       "<style scoped>\n",
       "    .dataframe tbody tr th:only-of-type {\n",
       "        vertical-align: middle;\n",
       "    }\n",
       "\n",
       "    .dataframe tbody tr th {\n",
       "        vertical-align: top;\n",
       "    }\n",
       "\n",
       "    .dataframe thead th {\n",
       "        text-align: right;\n",
       "    }\n",
       "</style>\n",
       "<table border=\"1\" class=\"dataframe\">\n",
       "  <thead>\n",
       "    <tr style=\"text-align: right;\">\n",
       "      <th></th>\n",
       "      <th>DUSP1_expression_HiF</th>\n",
       "      <th>DUSP1_expression_MFG</th>\n",
       "    </tr>\n",
       "    <tr>\n",
       "      <th>donor_id</th>\n",
       "      <th></th>\n",
       "      <th></th>\n",
       "    </tr>\n",
       "  </thead>\n",
       "  <tbody>\n",
       "    <tr>\n",
       "      <th>9861</th>\n",
       "      <td>1.4731</td>\n",
       "      <td>1.9717</td>\n",
       "    </tr>\n",
       "    <tr>\n",
       "      <th>10021</th>\n",
       "      <td>1.6493</td>\n",
       "      <td>1.4810</td>\n",
       "    </tr>\n",
       "    <tr>\n",
       "      <th>12876</th>\n",
       "      <td>1.7341</td>\n",
       "      <td>3.4874</td>\n",
       "    </tr>\n",
       "    <tr>\n",
       "      <th>14380</th>\n",
       "      <td>1.1262</td>\n",
       "      <td>2.8964</td>\n",
       "    </tr>\n",
       "    <tr>\n",
       "      <th>15496</th>\n",
       "      <td>0.7432</td>\n",
       "      <td>2.0351</td>\n",
       "    </tr>\n",
       "    <tr>\n",
       "      <th>15697</th>\n",
       "      <td>0.6745</td>\n",
       "      <td>1.6655</td>\n",
       "    </tr>\n",
       "  </tbody>\n",
       "</table>\n",
       "</div>"
      ],
      "text/plain": [
       "          DUSP1_expression_HiF  DUSP1_expression_MFG\n",
       "donor_id                                            \n",
       "9861                    1.4731                1.9717\n",
       "10021                   1.6493                1.4810\n",
       "12876                   1.7341                3.4874\n",
       "14380                   1.1262                2.8964\n",
       "15496                   0.7432                2.0351\n",
       "15697                   0.6745                1.6655"
      ]
     },
     "execution_count": 5,
     "metadata": {},
     "output_type": "execute_result"
    }
   ],
   "source": [
    "#Getting DUSP1 expression from each donor in the HiF\n",
    "DUSP1_exp_HiF = []\n",
    "\n",
    "for each_donor in DUSP1_HiF_id:\n",
    "    each_DUSP1_exp = requests.get(\"%sservice::human_microarray_expression[structures$eq4249][probes$eq1057452][donors$eq'%s\\']\" % (service, each_donor)).json()\n",
    "    \n",
    "#Convert the default dictionaries to a pd dataframe in order to get expression values\n",
    "    each_DUSP1_exp_msg = each_DUSP1_exp['msg']\n",
    "    geneinfo_df = pd.DataFrame(each_DUSP1_exp_msg['probes'])\n",
    "    exp_levels = geneinfo_df['expression_level'].tolist()[0][0]\n",
    "    \n",
    "    if type (exp_levels) == str:\n",
    "        exp_levels = float (exp_levels)\n",
    "        \n",
    "    DUSP1_exp_HiF.append (exp_levels)\n",
    "    \n",
    "# Combine the expression values with donor IDs\n",
    "DUSP1_HiF_dict = {'donor_id': DUSP1_HiF_id, \\\n",
    "               'DUSP1_expression_HiF': DUSP1_exp_HiF}\n",
    "DUSP1_HiF_df = pd.DataFrame (DUSP1_HiF_dict) #There are multiple cells from one donor, therefore, it contains a lot repeat data. \n",
    "clean_DUSP1_HiF_df = DUSP1_HiF_df.drop_duplicates().set_index('donor_id') #Clean the dataframe to give the only unique values and set the index to be donor id\n",
    "\n",
    "\n",
    "#Getting DUSP1 expression from each donor in the MFG\n",
    "DUSP1_exp_MFG = []\n",
    "\n",
    "for each_donor in DUSP1_MFG_id:\n",
    "    each_DUSP1_exp = requests.get(\"%sservice::human_microarray_expression[structures$eq4028][probes$eq1057452][donors$eq'%s\\']\" % (service, each_donor)).json()\n",
    "\n",
    "#Convert the default dictionaries to a pd dataframe in order to get expression values\n",
    "    each_DUSP1_exp_msg = each_DUSP1_exp['msg']\n",
    "    gene_info_df = pd.DataFrame(each_DUSP1_exp_msg['probes'])\n",
    "    exp_levels = gene_info_df['expression_level'].tolist()[0][0]\n",
    "    \n",
    "    if type (exp_levels) == str:\n",
    "        exp_levels = float (exp_levels)\n",
    "        \n",
    "    DUSP1_exp_MFG.append (exp_levels)\n",
    "    \n",
    "# Combine expression values with donor IDs\n",
    "DUSP1_MFG_dict = {'donor_id': DUSP1_MFG_id, \\\n",
    "               'DUSP1_expression_MFG': DUSP1_exp_MFG}\n",
    "DUSP1_MFG_df = pd.DataFrame (DUSP1_MFG_dict) \n",
    "clean_DUSP1_MFG_df = DUSP1_MFG_df.drop_duplicates().set_index('donor_id') \n",
    "\n",
    "\n",
    "#Merge the separate dataframes into one dataframe for better visualization\n",
    "combinedf = [clean_DUSP1_HiF_df, clean_DUSP1_MFG_df]\n",
    "DUSP1_allexp_df = reduce(lambda left,right: pd.merge(left,right,on='donor_id'), combinedf)\n",
    "DUSP1_allexp_df"
   ]
  },
  {
   "cell_type": "markdown",
   "metadata": {},
   "source": [
    "Now we can finally plot our data to visualize the associations between gene expression and brain area. Our question is to predict how would the gene expression in the HiF and MFG areas will differ from DUSP1 gene."
   ]
  },
  {
   "cell_type": "code",
   "execution_count": 6,
   "metadata": {
    "scrolled": true
   },
   "outputs": [
    {
     "data": {
      "image/png": "[encoded data removed]",
      "text/plain": [
       "<Figure size 432x288 with 1 Axes>"
      ]
     },
     "metadata": {
      "needs_background": "light"
     },
     "output_type": "display_data"
    }
   ],
   "source": [
    "# Getting each expression from each brain region and convert to lists\n",
    "HiF_DUSP1_exp = DUSP1_allexp_df['DUSP1_expression_HiF'].values.tolist()\n",
    "MFG_DUSP1_exp = DUSP1_allexp_df['DUSP1_expression_MFG'].values.tolist()\n",
    "\n",
    "HiF_DUSP1_exp = list(map(float, HiF_DUSP1_exp))\n",
    "MFG_DUSP1_exp = list(map(float, MFG_DUSP1_exp))\n",
    "\n",
    "expD_data = [HiF_DUSP1_exp, MFG_DUSP1_exp]\n",
    "\n",
    "# Plotting DUSP1 expression against brain region(HiF and MFG)\n",
    "\n",
    "fig,ax = plt.subplots()\n",
    "ax.boxplot(expD_data)\n",
    "ax.set_xlabel('Brain Region')\n",
    "ax.set_ylabel('DUSP1 Expression/log2(fluorescence intensity)')   \n",
    "ax.set_xticklabels(['HiF','MFG'])\n",
    "ax.set_title('Fig 1. Comparison of DUSP1 expression\\n level across HiF & MFG')\n",
    "\n",
    "\n",
    "plt.show()"
   ]
  },
  {
   "cell_type": "code",
   "execution_count": 7,
   "metadata": {},
   "outputs": [
    {
     "name": "stdout",
     "output_type": "stream",
     "text": [
      "An independent t-test for DUSP1 gene expression shows that the statistic is -2.783428975155363 and that the p-value is 0.01933655422965695\n",
      "\n"
     ]
    }
   ],
   "source": [
    "# Statistical analysis - DUSP1 gene expression\n",
    "\n",
    "stat_DUSP1_human, p_DUSP1_human = stats.ttest_ind(HiF_DUSP1_exp, MFG_DUSP1_exp)\n",
    "print('An independent t-test for DUSP1 gene expression shows that the statistic is ' + str(stat_DUSP1_human) + ' and that the p-value is ' + str(p_DUSP1_human))\n",
    "print()\n"
   ]
  },
  {
   "cell_type": "markdown",
   "metadata": {},
   "source": [
    "### Data Analysis & Results"
   ]
  },
  {
   "cell_type": "markdown",
   "metadata": {},
   "source": [
    "*In our analysis of gene expression between the middle temporal gyrus and hippocampal formation, we plotted one box plot across the two brain regions of our gene of interest: DUSP1. To see if there were statistically significant differences between middle temporal gyrus and hippocampal formation of DUSP1 gene expression, we also conducted an independent t-test. Overall, we found there is significant differences across middle temporal gyrus and hippocampal formation of DUSP1 gene expression, as p-value is less than 0.05.*"
   ]
  },
  {
   "cell_type": "markdown",
   "metadata": {},
   "source": [
    "## 2. Comparison of Electrophysiological Properties between the middle temporal gyrus (MTG) and middle frontal gyrus (MFG)"
   ]
  },
  {
   "cell_type": "markdown",
   "metadata": {},
   "source": [
    "### Data Wrangling"
   ]
  },
  {
   "cell_type": "markdown",
   "metadata": {},
   "source": [
    "Previously in this notebook, we have imported the neccessary packages to extract, visualize, and analyze electrophysiological data, which includes many standard numerical packages native to Python and toolboxes from the AllenSDK. In this section, we work within the CellTypes database to extract human metadata and electrophysiologyy data into dataframes, creating separate dataframes to speci middle temporal gyrus (MTG) and middle frontal gyrus (MFG)."
   ]
  },
  {
   "cell_type": "code",
   "execution_count": 8,
   "metadata": {},
   "outputs": [],
   "source": [
    "# Initialize cache as ctc \n",
    "ctc = CellTypesCache(manifest_file = 'cell_types/manifest.json')\n",
    "\n",
    "# Grab human metadata and turn it into a dataframe, setting index of dataframe to ID\n",
    "human_df = pd.DataFrame(ctc.get_cells(species = [CellTypesApi.HUMAN]))\n",
    "human_df = human_df.set_index('id')\n",
    "\n",
    "# Grab electrophysiology data and turn it into a dataframe, setting index of dataframe to specimen ID\n",
    "ephys_features = pd.DataFrame(ctc.get_ephys_features()).set_index('specimen_id')\n",
    "\n",
    "# Join the human and electrophysiology dataframes \n",
    "human_ephys_df = human_df.join(ephys_features)\n",
    "\n",
    "# Create dataframes for different brain regions\n",
    "human_mtg_df = human_ephys_df[human_ephys_df['structure_area_abbrev'] == 'MTG']\n",
    "human_mfg_df = human_ephys_df[human_ephys_df['structure_area_abbrev'] == 'MFG']"
   ]
  },
  {
   "cell_type": "markdown",
   "metadata": {},
   "source": [
    "### Data Visualization"
   ]
  },
  {
   "cell_type": "markdown",
   "metadata": {},
   "source": [
    "In this section, we will be analyzing four electrophysiological properties across the middle temporal gyrus and the middle frontal gyrus - resting membrane potential, upstroke-downstroke ratio, rheobase, F-I curve slopes. We will be plotting four boxplots, with each focusing on one of the above forementioned electrophysiological properties. "
   ]
  },
  {
   "cell_type": "code",
   "execution_count": 9,
   "metadata": {},
   "outputs": [
    {
     "data": {
      "image/png": "[encoded data removed]",
      "text/plain": [
       "<Figure size 1440x1440 with 4 Axes>"
      ]
     },
     "metadata": {
      "needs_background": "light"
     },
     "output_type": "display_data"
    }
   ],
   "source": [
    "# Build figure with 4 subplots\n",
    "fig, ax = plt.subplots(2,2, figsize = (20,20))\n",
    "\n",
    "# First subplot - boxplot of resting membrane potential \n",
    "vrest_human_mtg = human_mtg_df['vrest'].dropna()\n",
    "vrest_human_mfg = human_mfg_df['vrest'].dropna()\n",
    "\n",
    "ax[0,0].boxplot([vrest_human_mtg, vrest_human_mfg])\n",
    "ax[0,0].set_title('Resting Potential Between MTG and MFG')\n",
    "ax[0,0].set_xticklabels(['MTG', 'MFG'])\n",
    "ax[0,0].set_ylabel('Voltage (mV)')\n",
    "\n",
    "# Second subplot - boxplot of upstroke-downstroke ratio\n",
    "upstroke_downstroke_ratio_human_mtg = human_mtg_df['upstroke_downstroke_ratio_long_square'].dropna()\n",
    "upstroke_downstroke_ratio_human_mfg = human_mfg_df['upstroke_downstroke_ratio_long_square'].dropna()\n",
    "\n",
    "ax[0,1].boxplot([upstroke_downstroke_ratio_human_mtg, upstroke_downstroke_ratio_human_mfg])\n",
    "ax[0,1].set_title('Upstroke-Downstroke Ratio Between MTG and MFG')\n",
    "ax[0,1].set_xticklabels(['MTG', 'MFG'])\n",
    "ax[0,1].set_ylabel('Upstroke-Downstroke Ratio')\n",
    "\n",
    "# Third subplot - boxplot of rheobase\n",
    "rheobase_human_mtg = human_mtg_df['threshold_i_long_square'].dropna()\n",
    "rheobase_human_mfg = human_mfg_df['threshold_i_long_square'].dropna()\n",
    "\n",
    "ax[1,0].boxplot([rheobase_human_mtg, rheobase_human_mfg])\n",
    "ax[1,0].set_title('Rheobase Between MTG and MFG')\n",
    "ax[1,0].set_xticklabels(['MTG', 'MFG'])\n",
    "ax[1,0].set_ylabel('Rheobase')\n",
    "\n",
    "# Fourth subplot - boxplot of F-I curve slopes \n",
    "f_i_curve_slope_human_mtg = human_mtg_df['f_i_curve_slope'].dropna()\n",
    "f_i_curve_slope_human_mfg = human_mfg_df['f_i_curve_slope'].dropna()\n",
    "\n",
    "ax[1,1].boxplot([f_i_curve_slope_human_mtg, f_i_curve_slope_human_mfg])\n",
    "ax[1,1].set_title('F-I Curve Slopes Between MTG and MFG')\n",
    "ax[1,1].set_xticklabels(['MTG', 'MFG'])\n",
    "ax[1,1].set_ylabel('F-I Curve Slopes')\n",
    "\n",
    "plt.show()"
   ]
  },
  {
   "cell_type": "markdown",
   "metadata": {},
   "source": [
    "Next, we wanted to conduct statistical testing to quantitatively demonstrate any potential electrophysiological differences between the middle temporal gyrus and middle frontal gyrus. For each electrophysiological property, a skew test was first conducted to determine if the respective data from each brain region represented a normal distribution or a skewed distribution. If the data represented a normal distribution, an independent t-test was conducted. However, if the data represented a skewed distribution, a Mann Whitney U Test was conducted. Each test provided a statistic and a p-value. P-values that are lower than 0.05 were considered to be significant. "
   ]
  },
  {
   "cell_type": "code",
   "execution_count": 10,
   "metadata": {},
   "outputs": [
    {
     "name": "stdout",
     "output_type": "stream",
     "text": [
      "An independent t-test for resting membrane potential shows that the statistic is 1.7353966262468947 and that the p-value is 0.08359568928245785\n",
      "\n",
      "An independent t-test for upstroke-downstroke ratio shows that the statistic is 0.4083175796563589 and that the p-value is 0.6833029629167302\n",
      "\n",
      "A Mann-Whitney test for rheobase shows that the statistic is 3592.0 and that the p-value is 0.18500314536189966\n",
      "\n",
      "A Mann-Whitney test for F-I curve slope shows that the statistic is 3586.0 and that the p-value is 0.18202616403561372\n",
      "\n"
     ]
    }
   ],
   "source": [
    "# Statistical analysis - resting membrane potential \n",
    "statskew_vrest_human_mtg, pskew_vrest_human_mtg = stats.skewtest(vrest_human_mtg)\n",
    "statskew_vrest_human_mfg, pskew_vrest_human_mfg = stats.skewtest(vrest_human_mfg)\n",
    "\n",
    "if pskew_vrest_human_mtg > 0.05 and pskew_vrest_human_mfg > 0.05:\n",
    "  stat_vrest_human, p_vrest_human = stats.ttest_ind(vrest_human_mtg, vrest_human_mfg)\n",
    "  print('An independent t-test for resting membrane potential shows that the statistic is ' + str(stat_vrest_human) + ' and that the p-value is ' + str(p_vrest_human))\n",
    "  print()\n",
    "\n",
    "else:\n",
    "  stat_vrest_human, p_vrest_human = stats.mannwhitneyu(vrest_human_mtg, vrest_human_mfg)\n",
    "  print('A Mann-Whitney test for resting membrane potential shows that the statistic is ' + str(stat_vrest_human) + ' and that the p-value is ' + str(p_vrest_human))\n",
    "  print()\n",
    "\n",
    "# Statistical analysis - upstroke-downstroke ratio\n",
    "statskew_upstroke_downstroke_ratio_human_mtg, pskew_upstroke_downstroke_ratio_human_mtg = stats.skewtest(upstroke_downstroke_ratio_human_mtg)\n",
    "statskew_upstroke_downstroke_ratio_human_mfg, pskew_upstroke_downstroke_ratio_human_mfg = stats.skewtest(upstroke_downstroke_ratio_human_mfg)\n",
    "\n",
    "if pskew_upstroke_downstroke_ratio_human_mtg > 0.05 and pskew_upstroke_downstroke_ratio_human_mfg > 0.05:\n",
    "  stat_upstroke_downstroke_ratio_human, p_upstroke_downstroke_ratio_human = stats.ttest_ind(upstroke_downstroke_ratio_human_mtg, upstroke_downstroke_ratio_human_mfg)\n",
    "  print('An independent t-test for upstroke-downstroke ratio shows that the statistic is ' + str(stat_upstroke_downstroke_ratio_human) + ' and that the p-value is ' + str(p_upstroke_downstroke_ratio_human))\n",
    "  print()\n",
    "\n",
    "else:\n",
    "  stat_upstroke_downstroke_ratio_human, p_upstroke_downstroke_ratio_human = stats.mannwhitneyu(upstroke_downstroke_ratio_human_mtg, upstroke_downstroke_ratio_human_mfg)\n",
    "  print('A Mann-Whitney test for upstroke-downstroke ratio shows that the statistic is ' + str(stat_upstroke_downstroke_ratio_human) + ' and that the p-value is ' + str(p_upstroke_downstroke_ratio_human))\n",
    "  print()\n",
    "\n",
    "# Statistical analysis - rheobase\n",
    "statskew_rheobase_human_mtg, pskew_rheobase_human_mtg = stats.skewtest(rheobase_human_mtg)\n",
    "statskew_rheobase_human_mfg, pskew_rheobase_human_mfg = stats.skewtest(rheobase_human_mfg)\n",
    "\n",
    "if pskew_rheobase_human_mtg > 0.05 and pskew_rheobase_human_mfg > 0.05:\n",
    "  stat_rheobase_human, p_rheobase_human = stats.ttest_ind(rheobase_human_mtg, rheobase_human_mfg)\n",
    "  print('An independent t-test for rheobase shows that the statistic is ' + str(stat_rheobase_human) + ' and that the p-value is ' + str(p_rheobase_human))\n",
    "  print()\n",
    "\n",
    "else:\n",
    "  stat_rheobase_human, p_rheobase_human = stats.mannwhitneyu(rheobase_human_mtg, rheobase_human_mfg)\n",
    "  print('A Mann-Whitney test for rheobase shows that the statistic is ' + str(stat_rheobase_human) + ' and that the p-value is ' + str(p_rheobase_human))\n",
    "  print()\n",
    "\n",
    "# Statistical analysis - F-I curve slopes \n",
    "statskew_f_i_curve_slope_human_mtg, pskew_f_i_curve_slope_human_mtg = stats.skewtest(f_i_curve_slope_human_mtg)\n",
    "statskew_f_i_curve_slope_human_mfg, pskew_f_i_curve_slope_human_mfg = stats.skewtest(f_i_curve_slope_human_mfg)\n",
    "\n",
    "if pskew_f_i_curve_slope_human_mtg > 0.05 and pskew_f_i_curve_slope_human_mfg > 0.05:\n",
    "  stat_f_i_curve_slope_human, p_f_i_curve_slope_human = stats.ttest_ind(f_i_curve_slope_human_mtg, f_i_curve_slope_human_mfg)\n",
    "  print('An independent t-test for F-I curve slope shows that the statistic is ' + str(stat_f_i_curve_slope_human) + ' and that the p-value is ' + str(p_f_i_curve_slope_human))\n",
    "  print()\n",
    "\n",
    "else:\n",
    "  stat_f_i_curve_slope_human, p_f_i_curve_slope_human = stats.mannwhitneyu(f_i_curve_slope_human_mtg, f_i_curve_slope_human_mfg)\n",
    "  print('A Mann-Whitney test for F-I curve slope shows that the statistic is ' + str(stat_f_i_curve_slope_human) + ' and that the p-value is ' + str(p_f_i_curve_slope_human))\n",
    "  print()"
   ]
  },
  {
   "cell_type": "markdown",
   "metadata": {},
   "source": [
    "Lastly, because we have been working with multivariate datasets to describe our two brain regions, we conducted a Principal Component Analysis (PCA) to reduce the dimensionality in our data. PCA allows us to find common factors, also known as principal components, in linear combinations of various variables while retaining as much variance as possible within the data. In our analysis, we visualized the differences between our brain regions, the middle temporal gyrus and middle frontal gyrus."
   ]
  },
  {
   "cell_type": "code",
   "execution_count": 11,
   "metadata": {},
   "outputs": [
    {
     "data": {
      "image/png": "[encoded data removed]",
      "text/plain": [
       "<Figure size 480.875x360 with 1 Axes>"
      ]
     },
     "metadata": {
      "needs_background": "light"
     },
     "output_type": "display_data"
    }
   ],
   "source": [
    "#Instantiate the model with hyperparameters\n",
    "pca = PCA(4)        \n",
    "\n",
    "# Fit the PCA model to our data and transform to two dimensions\n",
    "human_mtg_mfg = pd.concat([human_mtg_df, human_mfg_df])\n",
    "pca_human = human_mtg_mfg[['vrest', 'upstroke_downstroke_ratio_long_square', 'threshold_i_long_square', 'f_i_curve_slope']]\n",
    "\n",
    "pca_human = (pca_human - pca_human.mean())/pca_human.std()\n",
    "\n",
    "norm_pca_human = pca.fit_transform(pca_human)   \n",
    "\n",
    "# Add principal components to data\n",
    "pca_human['structure_area_abbrev'] = human_mtg_mfg['structure_area_abbrev']\n",
    "\n",
    "pca_human['PC1'] = norm_pca_human[:,0]\n",
    "pca_human['PC2'] = norm_pca_human[:,1]\n",
    "\n",
    "# Plotting a PCA by brain region\n",
    "sns.lmplot(\"PC1\", \"PC2\", hue = 'structure_area_abbrev', data = pca_human, fit_reg = False)\n",
    "plt.show()"
   ]
  },
  {
   "cell_type": "markdown",
   "metadata": {},
   "source": [
    "We also looked at the explained variance for each principal component, which told us how each principal component contributed to explaining the total variance in the data."
   ]
  },
  {
   "cell_type": "code",
   "execution_count": 12,
   "metadata": {},
   "outputs": [
    {
     "name": "stdout",
     "output_type": "stream",
     "text": [
      "[0.52067121 0.26667301 0.13428252 0.07837326]\n"
     ]
    }
   ],
   "source": [
    "# Calculating the explained variance for each PCA\n",
    "ex_variance = np.var(norm_pca_human, axis = 0)\n",
    "ex_variance_ratio = ex_variance/np.sum(ex_variance)\n",
    "print(ex_variance_ratio)"
   ]
  },
  {
   "cell_type": "markdown",
   "metadata": {},
   "source": [
    "To wrap up our PCA analysis, we plotted a figure explaining which features contributed to each principal component, ultimately telling us which factors are meaningful to our dataset. "
   ]
  },
  {
   "cell_type": "code",
   "execution_count": 13,
   "metadata": {},
   "outputs": [
    {
     "data": {
      "image/png": "[encoded data removed]",
      "text/plain": [
       "<Figure size 720x1440 with 2 Axes>"
      ]
     },
     "metadata": {
      "needs_background": "light"
     },
     "output_type": "display_data"
    }
   ],
   "source": [
    "# Removing non-numerical columns from data, to prepare for interpretation of factors \n",
    "del pca_human['structure_area_abbrev']\n",
    "del pca_human['PC1']\n",
    "del pca_human['PC2']\n",
    "\n",
    "# Interpretting the meaning of factors \n",
    "plt.figure(figsize=(10,20))\n",
    "plt.imshow(pca.components_,cmap='viridis',)\n",
    "plt.yticks([0,1,2],['PC1','PC2','PC3'],fontsize=10)\n",
    "plt.colorbar(orientation='horizontal')\n",
    "plt.tight_layout()\n",
    "plt.xticks(range(len(pca_human.columns)),pca_human.columns,rotation=65)\n",
    "\n",
    "plt.show()"
   ]
  },
  {
   "cell_type": "markdown",
   "metadata": {},
   "source": [
    "### Data Analysis & Results"
   ]
  },
  {
   "cell_type": "markdown",
   "metadata": {},
   "source": [
    "In our analysis of electrophysiological properties between the middle temporal gyrus and the middle frontal gyrus, we plotted four different electrophysiological properties, including the resting membrane potential, upstroke-downstroke ratio, rheobase, and F-I curve slope, as box plots across the two brain regions. To see if there were statistically significant differences between middle temporal gyrus and the middle frontal gyrus across these electrophysiological properties, we conducted an independent t-test or a Mann Whitney test on each property, depending on if the data could be represented by a normal distribution or a skewed distribution. The distributions for resting membrane potential and upstroke-downstroke ratio were found to be normal, while the distributions for rheobase and F-I curve slope were found to be skewed. Overall, we found there to be no significant differences across all electrophysiological properties that we analyzed, as all p-values were above 0.05. \n",
    "\n",
    "Additionally, we conducted a Principal Components Analysis (PCA). On our PCA plot, we visualized our data by brain region. Although clusters for each brain region were observed, they were not distinct, suggesting that the variance in our data appears to not be correlated with brain region. When looking at the explained variance for each principal component, the first two principal components account for over 75% of the variance. When plotting a figure to understand which features contributed to each principal component, we see that the first principal component is predominantly made up of the resting membrane potenial, while the second principal component is predominantly made up of the rheobase and the F-I curve slope."
   ]
  },
  {
   "cell_type": "markdown",
   "metadata": {},
   "source": [
    "## Conclusion & Discussion"
   ]
  },
  {
   "cell_type": "markdown",
   "metadata": {},
   "source": [
    "The gene expression analysis of the hippocampal formation (HiF) and the middle frontal gyrus (MFG) showed a significant difference in expression of MKP-1/DUSP-1 between the two brain regions. The gene expression of MKP-1/DUSP-1 was found to be higher in the middle frontal gyrus than the hippocampal formation. Since MKP-1/DUSP-1 was previously found to be associated with hippocampal brain tissue of patients with major depressive disorder and to have its expression reduced when patients were treated with antidepressants, our findings suggest that the middle frontal gyrus could genetically be linked to onset of major depressive disorder. (Duric et al, 2010) \n",
    "\n",
    "The electrophysiology analysis of the two brain regions showed no significant differences across all properties examined, which include the resting membrane potential, upstroke-downstroke ratio, rheobase, and F-I slope curve.  The averages of all properties appeared similar between the two regions, with the exception of the rheobase, which appeared to be higher in the middle frontal gyrus than the middle temporal gyrus, suggesting that neurons in the middle temporal gyrus might demonstrate higher excitability. Our findings here are also consistent with our analysis of the gene expression data, as both brain regions show similar electrophysiological properties and thus could potentially have similar electrical environments. With the middle frontal gyrus also sharing functionality with the hippocampal formation, a brain region known to be associated with major depressive disorder, these findings bring further potential to a link between the middle frontal gyrus and onset of major depressive disorder. (Fitzgerald et al., 2008)\n"
   ]
  },
  {
   "cell_type": "markdown",
   "metadata": {},
   "source": [
    "**Limitations**: \n",
    "\n",
    "Our findings are extremely limited in scope and application, primarily due to limited resources. Because we could not locate datasets specific to patients with major depressive disorder, our analysis is primarily based on data drawn from human brains without any sort of malady. In addition, electrophysiology data from the Allen Cell Types database did not include data for the hippocampal formation (HiF), so we substituted analysis of this region with data from the middle temporal gyrus (MTG). Although the hippocampal formation is included in the middle temporal gyrus, it would have been more accurate and consistent for us to use electrophysiological data from the hippocampal formation. Ultimately, our team, as students, also had limited time to put into this project. With more time, more neurological properties, such as the morphology of neurons, and more genes could be studied.\n"
   ]
  },
  {
   "cell_type": "markdown",
   "metadata": {},
   "source": [
    "**Additional experiments**: \n",
    "\n",
    "In future studies, neurobiologists may look into establishing a direct genetic, morphological, or electrophysiological link between the middle frontal gyrus and major depressive disorder, as our project has suggested a potential link between the two. Data that would be needed for these experiments include relevant neurological data from patients with major depressive disorder and the same data from a control group of patients who do not have the disorder, using techniques like voltage clamping or optogenetics."
   ]
  },
  {
   "cell_type": "markdown",
   "metadata": {},
   "source": [
    "## Reflection"
   ]
  },
  {
   "cell_type": "markdown",
   "metadata": {},
   "source": [
    "We changed our original research plan several times since there were too many limitations at the beginning. We found it is very challenging to generate out the data of the gene expression. But we were able to figure out how to extract gene expression data with the Allen Microarray dataset. For the electrophysiology part, the most difficult thing is to make sure which region represents or includes the hippocampal formation since it does not directly exist as a location in the Allen Cell Type dataset. We practiced importing data, plotting, statistics, and so on. We learned a lot from the lectures and it helped us with the accomplishment of this project. \n",
    "\n",
    "We found coding is very useful and fascinating when we need to analyze the data from a big database like the Allen Microarray dataset. Everyone has contributed their hard work on this project. Nevertheless, the remote lecture made things even harder, such as learning and communicating. Also, since the summer session is very intense, the time for us to search the data and figure out our questions is narrow. We all think if we have more time to finish this project, our outcome could be more rewarded.\n"
   ]
  }
 ],
 "metadata": {
  "kernelspec": {
   "display_name": "Python 3",
   "language": "python",
   "name": "python3"
  },
  "language_info": {
   "codemirror_mode": {
    "name": "ipython",
    "version": 3
   },
   "file_extension": ".py",
   "mimetype": "text/x-python",
   "name": "python",
   "nbconvert_exporter": "python",
   "pygments_lexer": "ipython3",
   "version": "3.6.7"
  }
 },
 "nbformat": 4,
 "nbformat_minor": 2
}
